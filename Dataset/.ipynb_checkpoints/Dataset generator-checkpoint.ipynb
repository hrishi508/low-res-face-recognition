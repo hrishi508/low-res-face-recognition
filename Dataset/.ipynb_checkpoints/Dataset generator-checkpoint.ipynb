{
 "cells": [
  {
   "cell_type": "code",
   "execution_count": null,
   "id": "9aebea53",
   "metadata": {},
   "outputs": [],
   "source": [
    "import os\n",
    "import shutil\n",
    "import mtcnn\n",
    "from mtcnn.mtcnn import MTCNN\n",
    "import cv2\n",
    "src = 'Dataset/'\n",
    "dest1 = 'train/' #10 per subj\n",
    "dest2 = 'val/' #5 per subj\n",
    "dest3 = 'test/' #5 per subj\n",
    "i = 0\n",
    "j = 0\n",
    "x = 0\n",
    "y = 0\n",
    "z = 0\n",
    "detector = MTCNN()\n",
    "\n",
    "def process(pixels):\n",
    "    results = detector.detect_faces(pixels)\n",
    "    x1, y1, width, height = results[0]['box']\n",
    "    x1, y1 = abs(x1), abs(y1)\n",
    "    x2, y2 = x1 + width, y1 + height\n",
    "    img = pixels[y1:y2, x1:x2]\n",
    "    img = cv2.resize(img, (160,160), interpolation=cv2.INTER_CUBIC)\n",
    "return img\n",
    "\n",
    "for folder in os.listdir(src):\n",
    "    \n",
    "    folder_path = src + folder + '/'\n",
    "    i = 0\n",
    "    for file in os.listdir(folder_path):\n",
    "        file_path = folder_path + file\n",
    "        img = cv2.imread(file_path)\n",
    "        img = process(img)\n",
    "        \n",
    "        if i<10:\n",
    "            destination = dest1 + str(x) + '.jpg'\n",
    "            cv2.imwrite(destination, img)\n",
    "            x += 1\n",
    "            \n",
    "        elif i<15:\n",
    "            destination = dest2 + str(y) + '.jpg'\n",
    "            cv2.imwrite(destination, img)\n",
    "            y += 1\n",
    "            \n",
    "        elif i<20:\n",
    "            destination = dest3 + str(z) + '.jpg'\n",
    "            cv2.imwrite(destination, img)\n",
    "            z += 1\n",
    "            \n",
    "        else:\n",
    "            break\n",
    "            \n",
    "        i += 1"
   ]
  }
 ],
 "metadata": {
  "kernelspec": {
   "display_name": "Python 3",
   "language": "python",
   "name": "python3"
  },
  "language_info": {
   "codemirror_mode": {
    "name": "ipython",
    "version": 3
   },
   "file_extension": ".py",
   "mimetype": "text/x-python",
   "name": "python",
   "nbconvert_exporter": "python",
   "pygments_lexer": "ipython3",
   "version": "3.7.11"
  }
 },
 "nbformat": 4,
 "nbformat_minor": 5
}
