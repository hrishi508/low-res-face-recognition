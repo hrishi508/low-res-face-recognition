{
 "cells": [
  {
   "cell_type": "markdown",
   "metadata": {},
   "source": [
    "# EDSR"
   ]
  },
  {
   "cell_type": "code",
   "execution_count": 1,
   "metadata": {},
   "outputs": [],
   "source": [
    "import os\n",
    "import matplotlib.pyplot as plt\n",
    "import numpy as np\n",
    "from data import DIV2K\n",
    "from model.edsr import edsr\n",
    "from train import EdsrTrainer\n",
    "%matplotlib inline\n",
    "import tensorflow as tf\n",
    "from tensorflow.keras.layers import Dense, Conv2D, Activation, Input #changed 'keras.' to 'tensorflow.keras.'\n",
    "from tensorflow.keras.models import Sequential, Model #changed 'keras.' to 'tensorflow.keras.'\n",
    "from tensorflow.keras import optimizers #changed 'keras.' to 'tensorflow.keras.'\n",
    "import cv2\n",
    "import math\n",
    "import glob\n",
    "from tensorflow import keras\n",
    "from tensorflow.keras.preprocessing.image import load_img\n",
    "from tensorflow.keras.preprocessing.image import array_to_img\n",
    "from tensorflow.keras.preprocessing.image import img_to_array\n",
    "from tensorflow.keras.preprocessing import image_dataset_from_directory\n",
    "from IPython.display import display\n",
    "import sys\n",
    "from keras.models import load_model\n",
    "import mtcnn\n",
    "from mtcnn.mtcnn import MTCNN\n",
    "import random\n",
    "from pathlib import Path\n",
    "from tensorflow.keras import applications\n",
    "from tensorflow.keras import layers\n",
    "from tensorflow.keras import losses\n",
    "from tensorflow.keras import metrics\n",
    "from tensorflow.keras.applications import resnet\n",
    "from tensorflow.keras.callbacks import ModelCheckpoint, ReduceLROnPlateau\n",
    "import sklearn\n",
    "from sklearn.cluster import KMeans\n",
    "from sklearn import svm\n",
    "from sklearn.metrics import accuracy_score\n",
    "from sklearn.neighbors import KNeighborsClassifier\n",
    "target_shape = (160, 160)\n",
    "from sklearn.preprocessing import StandardScaler\n",
    "from sklearn.linear_model import LogisticRegression, SGDClassifier\n",
    "from sklearn.tree import DecisionTreeClassifier\n",
    "from sklearn.naive_bayes import GaussianNB\n",
    "from sklearn.ensemble import RandomForestClassifier\n",
    "from keras.layers.convolutional import Convolution2D, MaxPooling2D, UpSampling2D, Convolution2DTranspose\n"
   ]
  },
  {
   "cell_type": "code",
   "execution_count": null,
   "metadata": {},
   "outputs": [],
   "source": [
    "depth = 16\n",
    "scale = 4\n",
    "downgrade = 'bicubic'"
   ]
  },
  {
   "cell_type": "code",
   "execution_count": 8,
   "metadata": {},
   "outputs": [
    {
     "ename": "ValueError",
     "evalue": "Cannot assign to variable level1/kernel:0 due to variable shape (9, 9, 3, 64) and value shape (9, 9, 64, 3) are incompatible",
     "output_type": "error",
     "traceback": [
      "\u001b[1;31m---------------------------------------------------------------------------\u001b[0m",
      "\u001b[1;31mValueError\u001b[0m                                Traceback (most recent call last)",
      "\u001b[1;32m~\\AppData\\Local\\Temp/ipykernel_23912/64087738.py\u001b[0m in \u001b[0;36m<module>\u001b[1;34m\u001b[0m\n\u001b[0;32m     17\u001b[0m \u001b[1;31m#adam = optimizers.Adam(lr=1e-3)\u001b[0m\u001b[1;33m\u001b[0m\u001b[1;33m\u001b[0m\u001b[1;33m\u001b[0m\u001b[0m\n\u001b[0;32m     18\u001b[0m \u001b[1;31m#model.compile(optimizer=adam, loss='mse')\u001b[0m\u001b[1;33m\u001b[0m\u001b[1;33m\u001b[0m\u001b[1;33m\u001b[0m\u001b[0m\n\u001b[1;32m---> 19\u001b[1;33m \u001b[0mmodel\u001b[0m\u001b[1;33m.\u001b[0m\u001b[0mload_weights\u001b[0m\u001b[1;33m(\u001b[0m\u001b[1;34m'SR Weights 2X.h5'\u001b[0m\u001b[1;33m)\u001b[0m\u001b[1;33m\u001b[0m\u001b[1;33m\u001b[0m\u001b[0m\n\u001b[0m\u001b[0;32m     20\u001b[0m \u001b[0mmodel\u001b[0m\u001b[1;33m.\u001b[0m\u001b[0msummary\u001b[0m\u001b[1;33m(\u001b[0m\u001b[1;33m)\u001b[0m\u001b[1;33m\u001b[0m\u001b[1;33m\u001b[0m\u001b[0m\n",
      "\u001b[1;32m~\\anaconda3\\envs\\tensorflow\\lib\\site-packages\\tensorflow\\python\\keras\\engine\\training.py\u001b[0m in \u001b[0;36mload_weights\u001b[1;34m(self, filepath, by_name, skip_mismatch, options)\u001b[0m\n\u001b[0;32m   2324\u001b[0m             f, self.layers, skip_mismatch=skip_mismatch)\n\u001b[0;32m   2325\u001b[0m       \u001b[1;32melse\u001b[0m\u001b[1;33m:\u001b[0m\u001b[1;33m\u001b[0m\u001b[1;33m\u001b[0m\u001b[0m\n\u001b[1;32m-> 2326\u001b[1;33m         \u001b[0mhdf5_format\u001b[0m\u001b[1;33m.\u001b[0m\u001b[0mload_weights_from_hdf5_group\u001b[0m\u001b[1;33m(\u001b[0m\u001b[0mf\u001b[0m\u001b[1;33m,\u001b[0m \u001b[0mself\u001b[0m\u001b[1;33m.\u001b[0m\u001b[0mlayers\u001b[0m\u001b[1;33m)\u001b[0m\u001b[1;33m\u001b[0m\u001b[1;33m\u001b[0m\u001b[0m\n\u001b[0m\u001b[0;32m   2327\u001b[0m \u001b[1;33m\u001b[0m\u001b[0m\n\u001b[0;32m   2328\u001b[0m   \u001b[1;32mdef\u001b[0m \u001b[0m_updated_config\u001b[0m\u001b[1;33m(\u001b[0m\u001b[0mself\u001b[0m\u001b[1;33m)\u001b[0m\u001b[1;33m:\u001b[0m\u001b[1;33m\u001b[0m\u001b[1;33m\u001b[0m\u001b[0m\n",
      "\u001b[1;32m~\\anaconda3\\envs\\tensorflow\\lib\\site-packages\\tensorflow\\python\\keras\\saving\\hdf5_format.py\u001b[0m in \u001b[0;36mload_weights_from_hdf5_group\u001b[1;34m(f, layers)\u001b[0m\n\u001b[0;32m    711\u001b[0m                        str(len(weight_values)) + ' elements.')\n\u001b[0;32m    712\u001b[0m     \u001b[0mweight_value_tuples\u001b[0m \u001b[1;33m+=\u001b[0m \u001b[0mzip\u001b[0m\u001b[1;33m(\u001b[0m\u001b[0msymbolic_weights\u001b[0m\u001b[1;33m,\u001b[0m \u001b[0mweight_values\u001b[0m\u001b[1;33m)\u001b[0m\u001b[1;33m\u001b[0m\u001b[1;33m\u001b[0m\u001b[0m\n\u001b[1;32m--> 713\u001b[1;33m   \u001b[0mbackend\u001b[0m\u001b[1;33m.\u001b[0m\u001b[0mbatch_set_value\u001b[0m\u001b[1;33m(\u001b[0m\u001b[0mweight_value_tuples\u001b[0m\u001b[1;33m)\u001b[0m\u001b[1;33m\u001b[0m\u001b[1;33m\u001b[0m\u001b[0m\n\u001b[0m\u001b[0;32m    714\u001b[0m \u001b[1;33m\u001b[0m\u001b[0m\n\u001b[0;32m    715\u001b[0m \u001b[1;33m\u001b[0m\u001b[0m\n",
      "\u001b[1;32m~\\anaconda3\\envs\\tensorflow\\lib\\site-packages\\tensorflow\\python\\util\\dispatch.py\u001b[0m in \u001b[0;36mwrapper\u001b[1;34m(*args, **kwargs)\u001b[0m\n\u001b[0;32m    204\u001b[0m     \u001b[1;34m\"\"\"Call target, and fall back on dispatchers if there is a TypeError.\"\"\"\u001b[0m\u001b[1;33m\u001b[0m\u001b[1;33m\u001b[0m\u001b[0m\n\u001b[0;32m    205\u001b[0m     \u001b[1;32mtry\u001b[0m\u001b[1;33m:\u001b[0m\u001b[1;33m\u001b[0m\u001b[1;33m\u001b[0m\u001b[0m\n\u001b[1;32m--> 206\u001b[1;33m       \u001b[1;32mreturn\u001b[0m \u001b[0mtarget\u001b[0m\u001b[1;33m(\u001b[0m\u001b[1;33m*\u001b[0m\u001b[0margs\u001b[0m\u001b[1;33m,\u001b[0m \u001b[1;33m**\u001b[0m\u001b[0mkwargs\u001b[0m\u001b[1;33m)\u001b[0m\u001b[1;33m\u001b[0m\u001b[1;33m\u001b[0m\u001b[0m\n\u001b[0m\u001b[0;32m    207\u001b[0m     \u001b[1;32mexcept\u001b[0m \u001b[1;33m(\u001b[0m\u001b[0mTypeError\u001b[0m\u001b[1;33m,\u001b[0m \u001b[0mValueError\u001b[0m\u001b[1;33m)\u001b[0m\u001b[1;33m:\u001b[0m\u001b[1;33m\u001b[0m\u001b[1;33m\u001b[0m\u001b[0m\n\u001b[0;32m    208\u001b[0m       \u001b[1;31m# Note: convert_to_eager_tensor currently raises a ValueError, not a\u001b[0m\u001b[1;33m\u001b[0m\u001b[1;33m\u001b[0m\u001b[1;33m\u001b[0m\u001b[0m\n",
      "\u001b[1;32m~\\anaconda3\\envs\\tensorflow\\lib\\site-packages\\tensorflow\\python\\keras\\backend.py\u001b[0m in \u001b[0;36mbatch_set_value\u001b[1;34m(tuples)\u001b[0m\n\u001b[0;32m   3802\u001b[0m   \u001b[1;32mif\u001b[0m \u001b[0mops\u001b[0m\u001b[1;33m.\u001b[0m\u001b[0mexecuting_eagerly_outside_functions\u001b[0m\u001b[1;33m(\u001b[0m\u001b[1;33m)\u001b[0m\u001b[1;33m:\u001b[0m\u001b[1;33m\u001b[0m\u001b[1;33m\u001b[0m\u001b[0m\n\u001b[0;32m   3803\u001b[0m     \u001b[1;32mfor\u001b[0m \u001b[0mx\u001b[0m\u001b[1;33m,\u001b[0m \u001b[0mvalue\u001b[0m \u001b[1;32min\u001b[0m \u001b[0mtuples\u001b[0m\u001b[1;33m:\u001b[0m\u001b[1;33m\u001b[0m\u001b[1;33m\u001b[0m\u001b[0m\n\u001b[1;32m-> 3804\u001b[1;33m       \u001b[0mx\u001b[0m\u001b[1;33m.\u001b[0m\u001b[0massign\u001b[0m\u001b[1;33m(\u001b[0m\u001b[0mnp\u001b[0m\u001b[1;33m.\u001b[0m\u001b[0masarray\u001b[0m\u001b[1;33m(\u001b[0m\u001b[0mvalue\u001b[0m\u001b[1;33m,\u001b[0m \u001b[0mdtype\u001b[0m\u001b[1;33m=\u001b[0m\u001b[0mdtype_numpy\u001b[0m\u001b[1;33m(\u001b[0m\u001b[0mx\u001b[0m\u001b[1;33m)\u001b[0m\u001b[1;33m)\u001b[0m\u001b[1;33m)\u001b[0m\u001b[1;33m\u001b[0m\u001b[1;33m\u001b[0m\u001b[0m\n\u001b[0m\u001b[0;32m   3805\u001b[0m   \u001b[1;32melse\u001b[0m\u001b[1;33m:\u001b[0m\u001b[1;33m\u001b[0m\u001b[1;33m\u001b[0m\u001b[0m\n\u001b[0;32m   3806\u001b[0m     \u001b[1;32mwith\u001b[0m \u001b[0mget_graph\u001b[0m\u001b[1;33m(\u001b[0m\u001b[1;33m)\u001b[0m\u001b[1;33m.\u001b[0m\u001b[0mas_default\u001b[0m\u001b[1;33m(\u001b[0m\u001b[1;33m)\u001b[0m\u001b[1;33m:\u001b[0m\u001b[1;33m\u001b[0m\u001b[1;33m\u001b[0m\u001b[0m\n",
      "\u001b[1;32m~\\anaconda3\\envs\\tensorflow\\lib\\site-packages\\tensorflow\\python\\ops\\resource_variable_ops.py\u001b[0m in \u001b[0;36massign\u001b[1;34m(self, value, use_locking, name, read_value)\u001b[0m\n\u001b[0;32m    896\u001b[0m         \u001b[1;32melse\u001b[0m\u001b[1;33m:\u001b[0m\u001b[1;33m\u001b[0m\u001b[1;33m\u001b[0m\u001b[0m\n\u001b[0;32m    897\u001b[0m           \u001b[0mtensor_name\u001b[0m \u001b[1;33m=\u001b[0m \u001b[1;34m\" \"\u001b[0m \u001b[1;33m+\u001b[0m \u001b[0mstr\u001b[0m\u001b[1;33m(\u001b[0m\u001b[0mself\u001b[0m\u001b[1;33m.\u001b[0m\u001b[0mname\u001b[0m\u001b[1;33m)\u001b[0m\u001b[1;33m\u001b[0m\u001b[1;33m\u001b[0m\u001b[0m\n\u001b[1;32m--> 898\u001b[1;33m         raise ValueError(\n\u001b[0m\u001b[0;32m    899\u001b[0m             (\"Cannot assign to variable%s due to variable shape %s and value \"\n\u001b[0;32m    900\u001b[0m              \"shape %s are incompatible\") %\n",
      "\u001b[1;31mValueError\u001b[0m: Cannot assign to variable level1/kernel:0 due to variable shape (9, 9, 3, 64) and value shape (9, 9, 64, 3) are incompatible"
     ]
    }
   ],
   "source": [
    "f1 = 9\n",
    "f2 = 1\n",
    "f3 = 5\n",
    "\n",
    "n1 = 64\n",
    "n2 = 32\n",
    "\n",
    "\n",
    "init = Input(shape=(24,24,3))\n",
    "x = Conv2D(64, (9, 9), activation='relu', padding='same', name='level1')(init)\n",
    "x = Conv2D(32, (1, 1), activation='relu', padding='same', name='level2')(x)\n",
    "\n",
    "out = Conv2D(3, (5, 5), padding='same', name='output')(x)\n",
    "\n",
    "model = Model(init, out)\n",
    "\n",
    "#adam = optimizers.Adam(lr=1e-3)\n",
    "#model.compile(optimizer=adam, loss='mse')\n",
    "model.load_weights('SR Weights 2X.h5')\n",
    "model.summary()"
   ]
  },
  {
   "cell_type": "code",
   "execution_count": null,
   "metadata": {},
   "outputs": [],
   "source": [
    "SR = edsr(scale=scale, num_res_blocks=depth)\n",
    "SR.load_weights('weights/edsr-16-x4/weights.h5')\n",
    "for layer in SR.layers:\n",
    "    layer.trainable = False\n",
    "SR.summary()"
   ]
  },
  {
   "cell_type": "code",
   "execution_count": null,
   "metadata": {},
   "outputs": [],
   "source": [
    "from model import resolve_single\n",
    "from utils import load_image, plot_sample\n",
    "\n",
    "def resolve(model, lr_batch):\n",
    "    lr_batch = tf.cast(lr_batch, tf.float32)\n",
    "    sr_batch = model(lr_batch)\n",
    "    sr_batch = tf.clip_by_value(sr_batch, 0, 255)\n",
    "    sr_batch = tf.round(sr_batch)\n",
    "    sr_batch = tf.cast(sr_batch, tf.uint8)\n",
    "    return sr_batch\n",
    "\n",
    "def resolve_and_plot(lr):\n",
    "    lr = tf.image.resize(lr, [24,24], method = 'bicubic')\n",
    "    #sr = resolve(SR, lr)\n",
    "    sr = tf.image.resize(lr, [160,160], method = 'bicubic')\n",
    "    image = tf.image.convert_image_dtype(sr, tf.float32)\n",
    "    #image = tf.image.per_image_standardization(image)\n",
    "    return image"
   ]
  },
  {
   "cell_type": "code",
   "execution_count": 3,
   "metadata": {},
   "outputs": [
    {
     "data": {
      "text/plain": [
       "<matplotlib.image.AxesImage at 0x15551d9a0a0>"
      ]
     },
     "execution_count": 3,
     "metadata": {},
     "output_type": "execute_result"
    },
    {
     "data": {
      "image/png": "[encoded data removed]",
      "text/plain": [
       "<Figure size 432x288 with 1 Axes>"
      ]
     },
     "metadata": {
      "needs_background": "light"
     },
     "output_type": "display_data"
    }
   ],
   "source": [
    "lr = cv2.imread('0000.jpg')\n",
    "lr = cv2.cvtColor(lr, cv2.COLOR_BGR2RGB)\n",
    "#lr = tf.convert_to_tensor(lr)\n",
    "lr = tf.image.resize(lr, [24,24], method = 'bicubic')\n",
    "#lr = tf.image.resize(lr, [36,36])\n",
    "lr = tf.cast(tf.image.resize(lr, [160,160]), tf.uint8)\n",
    "#lr = resolve_and_plot(lr)\n",
    "plt.imshow(lr)"
   ]
  },
  {
   "cell_type": "code",
   "execution_count": null,
   "metadata": {},
   "outputs": [],
   "source": [
    "lr = cv2.imread('0000.jpg')\n",
    "lr = cv2.cvtColor(lr, cv2.COLOR_BGR2RGB)\n",
    "lr = cv2.resize(lr, (36,36), interpolation=cv2.INTER_CUBIC)\n",
    "lr = resolve_single(SR, lr)\n",
    "\n",
    "lr = np.array(lr)\n",
    "lr = cv2.resize(lr, (160,160), interpolation=cv2.INTER_CUBIC)\n",
    "plt.imshow(lr)"
   ]
  },
  {
   "cell_type": "code",
   "execution_count": null,
   "metadata": {},
   "outputs": [],
   "source": [
    "FECNN = keras.models.load_model('../keras-facenet-master/keras-facenet-master/model/keras/model/facenet_keras.h5')\n",
    "FECNN.load_weights('../keras-facenet-master/keras-facenet-master/model/keras/weights/facenet_keras_weights.h5')\n",
    "for layer in FECNN.layers:\n",
    "    layer.trainable = False"
   ]
  },
  {
   "cell_type": "code",
   "execution_count": null,
   "metadata": {},
   "outputs": [],
   "source": [
    "temp = keras.models.load_model('../keras-facenet-master/keras-facenet-master/model/keras/model/facenet_keras.h5')\n",
    "temp.load_weights('../keras-facenet-master/keras-facenet-master/model/keras/weights/facenet_keras_weights.h5')\n",
    "temp.summary()"
   ]
  },
  {
   "cell_type": "code",
   "execution_count": null,
   "metadata": {},
   "outputs": [],
   "source": [
    "BATCH_SIZE = 64\n",
    "IMG_SIZE = (160,160)\n",
    "\n",
    "directory = \"../low-res-face-recognition/Dataset/final_gen_data_209/train\"\n",
    "train_ds = image_dataset_from_directory(\n",
    "    directory, label_mode=None, color_mode='rgb', batch_size=BATCH_SIZE, image_size=IMG_SIZE, shuffle=True, seed=0, validation_split=None, subset=None,\n",
    "    interpolation='bicubic', follow_links=False)\n",
    "directory = \"../low-res-face-recognition/Dataset/final_gen_data_209/val\"\n",
    "valid_ds = image_dataset_from_directory(\n",
    "    directory, label_mode=None, color_mode='rgb', batch_size=BATCH_SIZE, image_size=IMG_SIZE, shuffle=True, seed=0, validation_split=None, subset=None,\n",
    "    interpolation='bicubic', follow_links=False)"
   ]
  },
  {
   "cell_type": "code",
   "execution_count": null,
   "metadata": {},
   "outputs": [],
   "source": [
    "def hr(x):\n",
    "    image = tf.image.convert_image_dtype(x, tf.float32)\n",
    "    image = tf.image.per_image_standardization(image)\n",
    "    image = FECNN(image)\n",
    "    return image"
   ]
  },
  {
   "cell_type": "code",
   "execution_count": null,
   "metadata": {},
   "outputs": [],
   "source": [
    "AUTOTUNE = tf.data.experimental.AUTOTUNE\n",
    "train_ds = train_ds.map(\n",
    "    lambda x: (resolve_and_plot(x), hr(x))\n",
    ")\n",
    "train_ds = train_ds.prefetch(buffer_size=AUTOTUNE)\n",
    "\n",
    "valid_ds = valid_ds.map(\n",
    "    lambda x: (resolve_and_plot(x), hr(x))\n",
    ")\n",
    "valid_ds = valid_ds.prefetch(buffer_size=AUTOTUNE)"
   ]
  },
  {
   "cell_type": "code",
   "execution_count": null,
   "metadata": {},
   "outputs": [],
   "source": [
    "input_img = Input(shape=(160,160,3))\n",
    "A6 = temp(input_img)\n",
    "SRFECNN = Model(input_img, A6)\n",
    "opt = optimizers.Adam()\n",
    "    \n",
    "SRFECNN.compile(\n",
    "    optimizer=opt,\n",
    "    loss=tf.keras.losses.MeanSquaredError(),\n",
    "    metrics=[tf.keras.metrics.RootMeanSquaredError()])\n",
    "SRFECNN.summary()"
   ]
  },
  {
   "cell_type": "code",
   "execution_count": null,
   "metadata": {},
   "outputs": [],
   "source": [
    "model_checkpoint_callback = ModelCheckpoint(filepath='../twobranch_extension/weights.h5',\n",
    "                                            save_weights_only = True,\n",
    "                                            period = 1,\n",
    "                                            verbose = 1,\n",
    "                                            save_best_only=False)"
   ]
  },
  {
   "cell_type": "code",
   "execution_count": null,
   "metadata": {},
   "outputs": [],
   "source": [
    "train_loss = []\n",
    "val_loss = []\n",
    "train_acc_arr = []\n",
    "val_acc_arr = []"
   ]
  },
  {
   "cell_type": "code",
   "execution_count": null,
   "metadata": {
    "scrolled": false
   },
   "outputs": [],
   "source": [
    "for ite in range(45):\n",
    "    if ite == 30:\n",
    "        opt = optimizers.Adam(learning_rate = 0.0001)\n",
    "        SRFECNN.compile(\n",
    "            optimizer=opt,\n",
    "            loss=tf.keras.losses.MeanSquaredError(),\n",
    "            metrics=[tf.keras.metrics.RootMeanSquaredError()])\n",
    "    if ite == 40:\n",
    "        opt = optimizers.Adam(learning_rate = 0.00001)\n",
    "        SRFECNN.compile(\n",
    "            optimizer=opt,\n",
    "            loss=tf.keras.losses.MeanSquaredError(),\n",
    "            metrics=[tf.keras.metrics.RootMeanSquaredError()])\n",
    "    if ite > 0:\n",
    "        SRFECNN.load_weights('../twobranch_extension/weights.h5')\n",
    "        \n",
    "    history = SRFECNN.fit(train_ds, epochs=1, validation_data=valid_ds, callbacks = [model_checkpoint_callback])\n",
    "    \n",
    "    train_loss.append(history.history['loss'][0])\n",
    "    val_loss.append(history.history['val_loss'][0])\n",
    "\n",
    "    i=0\n",
    "    j=1\n",
    "    temp = []\n",
    "    data = np.zeros((2090,512))\n",
    "    train_labels = np.zeros((2090,))\n",
    "    for filename in os.listdir('../low-res-face-recognition/Dataset/final_gen_data_209/train'):\n",
    "        lr = cv2.imread(os.path.join('../low-res-face-recognition/Dataset/final_gen_data_209/train',filename))\n",
    "        lr = cv2.cvtColor(lr, cv2.COLOR_BGR2RGB)\n",
    "\n",
    "        lr = cv2.resize(lr, (24,24), interpolation=cv2.INTER_CUBIC)\n",
    "        #lr = resolve_single(SR, lr)\n",
    "        #lr = np.array(lr)\n",
    "        lr = cv2.resize(lr, (160,160), interpolation=cv2.INTER_CUBIC)\n",
    "\n",
    "        lr = lr.astype('float32')\n",
    "        mean, std = lr.mean(), lr.std()\n",
    "        lr = (lr - mean) / std\n",
    "\n",
    "        lr = np.array([lr])\n",
    "        lr = tf.convert_to_tensor(lr)\n",
    "        vec1 = SRFECNN.predict(lr)\n",
    "        vec1 = vec1.flatten() \n",
    "        data[i] = vec1\n",
    "        train_labels[i] = int(i/10)\n",
    "        i += 1\n",
    "    \n",
    "    #STANDARDIZATION\n",
    "\n",
    "    mean_arr = []\n",
    "    std_arr = []\n",
    "    for i in range(len(data[0])):\n",
    "        x = data[:,i]\n",
    "        x = x.astype('float32')\n",
    "        mean, std = x.mean(), x.std()\n",
    "        x = (x - mean) / std\n",
    "        mean_arr.append(mean)\n",
    "        std_arr.append(std)\n",
    "        data[:,i] = x\n",
    "        \n",
    "    i=0\n",
    "    j=1\n",
    "    temp = []\n",
    "    val = np.zeros((418,512))\n",
    "    val_labels = np.zeros((418,))\n",
    "    for filename in os.listdir('../low-res-face-recognition/Dataset/final_gen_data_209/val'):\n",
    "        lr = cv2.imread(os.path.join('../low-res-face-recognition/Dataset/final_gen_data_209/val',filename))\n",
    "        lr = cv2.cvtColor(lr, cv2.COLOR_BGR2RGB)\n",
    "\n",
    "        lr = cv2.resize(lr, (24,24), interpolation=cv2.INTER_CUBIC)\n",
    "        #lr = resolve_single(SR, lr)\n",
    "        #lr = np.array(lr)\n",
    "        lr = cv2.resize(lr, (160,160), interpolation=cv2.INTER_CUBIC)\n",
    "\n",
    "        lr = lr.astype('float32')\n",
    "        mean, std = lr.mean(), lr.std()\n",
    "        lr = (lr - mean) / std\n",
    "\n",
    "        lr = np.array([lr])\n",
    "        lr = tf.convert_to_tensor(lr)\n",
    "        vec1 = SRFECNN.predict(lr)\n",
    "        vec1 = vec1.flatten()\n",
    "        val[i] = vec1\n",
    "        val_labels[i] = int(i/2)\n",
    "        i += 1\n",
    "        \n",
    "    #STANDARDIZATION\n",
    "\n",
    "    for i in range(len(val[0])):\n",
    "        x = val[:,i]\n",
    "        x = x.astype('float32')\n",
    "        x = (x - mean_arr[i]) / std_arr[i]\n",
    "        val[:,i] = x\n",
    "    \n",
    "    sc_X = StandardScaler()\n",
    "    X_Train = sc_X.fit_transform(data)\n",
    "    X_val = sc_X.transform(val)\n",
    "\n",
    "    # Fitting the Logistic Regression into the Training set\n",
    "    classifier = LogisticRegression(max_iter=10**20)\n",
    "    classifier.fit(X_Train, train_labels)\n",
    "    \n",
    "    Y_Pred_train = classifier.predict(X_Train)\n",
    "    train_acc = accuracy_score(train_labels, Y_Pred_train)\n",
    "    train_acc_arr.append(train_acc)\n",
    "\n",
    "    Y_Pred = classifier.predict(X_val)\n",
    "    val_acc = accuracy_score(val_labels, Y_Pred)\n",
    "    val_acc_arr.append(val_acc)\n",
    "    \n",
    "    print(ite,train_acc_arr[ite],val_acc_arr[ite],train_loss[ite],val_loss[ite])"
   ]
  },
  {
   "cell_type": "code",
   "execution_count": null,
   "metadata": {},
   "outputs": [],
   "source": [
    "with open('../train_loss.txt', 'w') as f:\n",
    "    for item in train_loss:\n",
    "        f.write(\"%s\\n\" % item)\n",
    "with open('../val_loss.txt', 'w') as f:\n",
    "    for item in val_loss:\n",
    "        f.write(\"%s\\n\" % item)\n",
    "with open('../train_acc.txt', 'w') as f:\n",
    "    for item in train_acc_arr:\n",
    "        f.write(\"%s\\n\" % item)\n",
    "with open('../val_acc.txt', 'w') as f:\n",
    "    for item in val_acc_arr:\n",
    "        f.write(\"%s\\n\" % item)"
   ]
  },
  {
   "cell_type": "code",
   "execution_count": null,
   "metadata": {},
   "outputs": [],
   "source": [
    "plt.rcParams.update({'font.size': 20})\n",
    "plt.figure(figsize=(16, 16))\n",
    "plt.subplot(2, 1, 1)\n",
    "plt.plot(train_acc_arr, label='Training Accuracy')\n",
    "plt.plot(val_acc_arr, label='Validation Accuracy')\n",
    "plt.legend(loc='lower right', fontsize = 20)\n",
    "plt.ylabel('Accuracy', fontsize = 20)\n",
    "plt.xlabel('epoch', fontsize = 20)\n",
    "\n",
    "plt.subplot(2, 1, 2)\n",
    "plt.plot(train_loss, label='Training Loss')\n",
    "plt.plot(val_loss, label='Validation Loss')\n",
    "plt.legend(loc='upper right', fontsize = 20)\n",
    "plt.ylabel('Mean Squared Error', fontsize = 20)\n",
    "#plt.ylim([min(plt.ylim()),1])\n",
    "plt.ylim([0,7])\n",
    "plt.xlabel('epoch', fontsize = 20)\n",
    "plt.show()"
   ]
  },
  {
   "cell_type": "code",
   "execution_count": null,
   "metadata": {},
   "outputs": [],
   "source": [
    "import time\n",
    "from sklearn.preprocessing import StandardScaler\n",
    "from sklearn.decomposition import PCA\n",
    "import pandas as pd\n",
    "start = time.time()\n",
    "i=0\n",
    "FP=0\n",
    "TN=0\n",
    "FN=0\n",
    "accuracy = 0\n",
    "t=7.5\n",
    "b=0\n",
    "x = []\n",
    "from keras_vggface.vggface import VGGFace\n",
    "FECNN = VGGFace()\n",
    "def resolve_single(model, lr):\n",
    "    return resolve(model, tf.expand_dims(lr, axis=0))[0]\n",
    "#SRFECNN.load_weights('../../twobranch_extension/unfreezed15_lr=0.001.100-0.46.h5')\n",
    "for filename in os.listdir('../../SRtrain/train'):\n",
    "    img = cv2.imread(os.path.join('../../SRtrain/train',filename))\n",
    "    img = cv2.cvtColor(img, cv2.COLOR_BGR2RGB)\n",
    "    #img = cv2.resize(img, (36,36), interpolation=cv2.INTER_CUBIC)\n",
    "    #img = resolve_single(SR,img)\n",
    "    #img = np.array(img)\n",
    "    img = cv2.resize(img, (224,224), interpolation=cv2.INTER_CUBIC)\n",
    "    img = img.astype('float32')\n",
    "    mean, std = img.mean(), img.std()\n",
    "    img = (img - mean) / std\n",
    "    img = np.array([img])\n",
    "    img = tf.convert_to_tensor(img)\n",
    "    vec = FECNN.predict(img)\n",
    "    #vec = vec/np.linalg.norm(vec)5\n",
    "    #print(vec)\n",
    "    #break\n",
    "    x.append(vec.flatten())\n",
    "    #vec1 = vec1/np.linalg.norm(vec1)\n",
    "    #a = []\n",
    "    '''for j in range(50):\n",
    "        k = 's' + str(j)\n",
    "        vec2 = dic[k]/np.linalg.norm(dic[k])\n",
    "        dist = tf.reduce_sum(K.sqrt(K.square(vec2-vec1)))\n",
    "        a.append(dist)'''  \n",
    "#print(x)\n",
    "x = StandardScaler().fit_transform(x)\n",
    "pca = PCA(n_components=2)\n",
    "principalComponents = pca.fit_transform(x)\n",
    "principalDf = pd.DataFrame(data = principalComponents\n",
    "             , columns = ['principal component 1', 'principal component 2'])\n",
    "fig = plt.figure(figsize = (8,8))\n",
    "ax = fig.add_subplot(1,1,1) \n",
    "#plt.ylim([-30,30])\n",
    "ax.set_xlabel('Principal Component 1', fontsize = 15)\n",
    "ax.set_ylabel('Principal Component 2', fontsize = 15)\n",
    "ax.set_title('FECNN Features PCA', fontsize = 20)\n",
    "colors = ['r', 'g', 'b','c','m','y','k','gold','grey','purple']\n",
    "k=[0,2,6,8,9]\n",
    "x = 10\n",
    "for i in range(10):\n",
    "    ax.scatter(principalDf.loc[range((i*x),((i*x)+x)), 'principal component 1']\n",
    "               , principalDf.loc[range((i*x),((i*x)+x)), 'principal component 2']\n",
    "               , c = colors[i]\n",
    "               , s = 50)\n",
    "#ax.legend(targets)\n",
    "ax.grid()"
   ]
  },
  {
   "cell_type": "code",
   "execution_count": null,
   "metadata": {},
   "outputs": [],
   "source": [
    "principalDf = pd.DataFrame(data = test2d\n",
    "             , columns = ['principal component 1', 'principal component 2'])\n",
    "fig = plt.figure(figsize = (8,8))\n",
    "ax = fig.add_subplot(1,1,1) \n",
    "#plt.ylim([-30,30])\n",
    "ax.set_xlabel('Principal Component 1', fontsize = 15)\n",
    "ax.set_ylabel('Principal Component 2', fontsize = 15)\n",
    "ax.set_title('FECNN Features PCA', fontsize = 20)\n",
    "colors = ['r', 'g', 'b','c','m','y','k','gold','grey','purple']\n",
    "k=[0,2,6,8,9]\n",
    "x = 5\n",
    "for i in range(10):\n",
    "    ax.scatter(principalDf.loc[range((i*x),((i*x)+x)), 'principal component 1']\n",
    "               , principalDf.loc[range((i*x),((i*x)+x)), 'principal component 2']\n",
    "               , c = colors[i]\n",
    "               , s = 50)\n",
    "#ax.legend(targets)\n",
    "ax.grid()"
   ]
  },
  {
   "cell_type": "code",
   "execution_count": null,
   "metadata": {},
   "outputs": [],
   "source": [
    "import matplotlib\n",
    "matplotlib.__version__\n"
   ]
  },
  {
   "cell_type": "code",
   "execution_count": null,
   "metadata": {},
   "outputs": [],
   "source": []
  },
  {
   "cell_type": "code",
   "execution_count": null,
   "metadata": {},
   "outputs": [],
   "source": []
  },
  {
   "cell_type": "code",
   "execution_count": null,
   "metadata": {},
   "outputs": [],
   "source": []
  },
  {
   "cell_type": "code",
   "execution_count": null,
   "metadata": {},
   "outputs": [],
   "source": []
  },
  {
   "cell_type": "code",
   "execution_count": null,
   "metadata": {},
   "outputs": [],
   "source": [
    "#THRESHOLD"
   ]
  },
  {
   "cell_type": "code",
   "execution_count": null,
   "metadata": {},
   "outputs": [],
   "source": [
    "print(b)"
   ]
  },
  {
   "cell_type": "code",
   "execution_count": null,
   "metadata": {},
   "outputs": [],
   "source": [
    "kmean = KMeans(n_clusters=2)\n",
    "labels = kmean.fit_predict(b)\n",
    "print(labels)"
   ]
  },
  {
   "cell_type": "code",
   "execution_count": null,
   "metadata": {},
   "outputs": [],
   "source": [
    "labels_1=[]\n",
    "labels_0=[]\n",
    "\n",
    "for i in range(len(labels)):\n",
    "    if(labels[i]==1):\n",
    "        labels_1.append(b[i])\n",
    "    else:\n",
    "        labels_0.append(b[i])\n",
    "print(len(labels_1))\n",
    "print(len(labels_0))"
   ]
  },
  {
   "cell_type": "code",
   "execution_count": null,
   "metadata": {},
   "outputs": [],
   "source": [
    "kmean.cluster_centers_"
   ]
  },
  {
   "cell_type": "code",
   "execution_count": null,
   "metadata": {},
   "outputs": [],
   "source": [
    "#plt.ylim(0,1)\n",
    "fig = plt.figure()\n",
    "ax = fig.add_subplot(1,1,1) \n",
    "ax.set_xlabel('Image number', fontsize = 15)\n",
    "ax.set_ylabel('Distance', fontsize = 15)\n",
    "ax.set_title('KMeans clustering', fontsize = 20)\n",
    "ax.scatter(range(0,56),labels_0,color='red')\n",
    "ax.scatter(range(56,100),labels_1,color='blue')\n",
    "ax.scatter([20,53],[[0.37287224],\n",
    "       [0.11982424]],marker='x',linewidths=3,color='purple')\n",
    "ax.plot([0,66],[0.235,0.235],color='green')\n",
    "ax.legend(['Threshold','Img not in DB','Img in DB','Cluster centroids'])\n",
    "plt.show()"
   ]
  },
  {
   "cell_type": "code",
   "execution_count": null,
   "metadata": {},
   "outputs": [],
   "source": [
    "c = b[:40]\n",
    "mini = min(c)\n",
    "#print(mini)\n",
    "d = b[40:]\n",
    "maxi = max(d)\n",
    "#print(c) maximum = 0.23314758\n",
    "print(d) #minimum = 0.23771875,0.25001103"
   ]
  },
  {
   "cell_type": "code",
   "execution_count": null,
   "metadata": {},
   "outputs": [],
   "source": []
  },
  {
   "cell_type": "code",
   "execution_count": null,
   "metadata": {},
   "outputs": [],
   "source": []
  },
  {
   "cell_type": "code",
   "execution_count": null,
   "metadata": {},
   "outputs": [],
   "source": []
  },
  {
   "cell_type": "code",
   "execution_count": null,
   "metadata": {},
   "outputs": [],
   "source": []
  },
  {
   "cell_type": "code",
   "execution_count": null,
   "metadata": {},
   "outputs": [],
   "source": []
  },
  {
   "cell_type": "code",
   "execution_count": null,
   "metadata": {},
   "outputs": [],
   "source": []
  },
  {
   "cell_type": "code",
   "execution_count": null,
   "metadata": {},
   "outputs": [],
   "source": [
    "import tensorflow_addons as tfa\n",
    "from tensorflow.keras.optimizers import RMSprop\n",
    "classifier_model = tf.keras.models.Sequential()\n",
    "classifier_model.add(tf.keras.layers.Dense(195, input_shape = (512,), activation = 'softmax'))#tfa.activations.mish))\n",
    "#classifier_model.add(tf.keras.layers.Dropout(0.5))\n",
    "#classifier_model.add(tf.keras.layers.Dense(195, activation = 'softmax'))"
   ]
  },
  {
   "cell_type": "code",
   "execution_count": null,
   "metadata": {},
   "outputs": [],
   "source": [
    "#classifier_model = build_classifier_model()\n",
    "opt = optimizers.Adam()\n",
    "classifier_model.compile(optimizer='adam',\n",
    "                         loss='categorical_crossentropy',\n",
    "                         metrics=['accuracy'])"
   ]
  },
  {
   "cell_type": "code",
   "execution_count": null,
   "metadata": {},
   "outputs": [],
   "source": [
    "train_oh_labels = tf.one_hot(train_labels, 195)\n",
    "val_oh_labels = tf.one_hot(val_labels, 195)"
   ]
  },
  {
   "cell_type": "code",
   "execution_count": null,
   "metadata": {},
   "outputs": [],
   "source": [
    "#reduce_lr = ReduceLROnPlateau(monitor='val_loss', factor=0.2,\n",
    "#                              patience=5, min_lr=0.000001)\n",
    "history = classifier_model.fit(x = data, y = train_oh_labels, validation_data = (val, val_oh_labels), batch_size=1950, epochs=1000)"
   ]
  },
  {
   "cell_type": "code",
   "execution_count": null,
   "metadata": {},
   "outputs": [],
   "source": [
    "y_pred = classifier_model.predict(test)\n",
    "pred = [np.argmax(x) for x in y_pred]\n",
    "test_acc = accuracy_score(test_labels, pred)\n",
    "print(\"Test Accuracy: \", test_acc)"
   ]
  },
  {
   "cell_type": "code",
   "execution_count": null,
   "metadata": {},
   "outputs": [],
   "source": [
    "from sklearn.preprocessing import StandardScaler\n",
    "sc_X = StandardScaler()\n",
    "X_Train = sc_X.fit_transform(data)\n",
    "X_Test = sc_X.transform(val)\n",
    "\n",
    "# Fitting the Logistic Regression into the Training set\n",
    "\n",
    "from sklearn.linear_model import LogisticRegression, SGDClassifier\n",
    "from sklearn.tree import DecisionTreeClassifier\n",
    "from sklearn.naive_bayes import GaussianNB\n",
    "from sklearn.ensemble import RandomForestClassifier\n",
    "classifier = LogisticRegression(solver = 'lbfgs', max_iter=10**19)\n",
    "classifier.fit(X_Train, train_labels)\n",
    "\n",
    "# Predicting the test set results\n",
    "\n",
    "Y_Pred = classifier.predict(X_Test)\n",
    "\n",
    "# Making the Confusion Matrix \n",
    "\n",
    "from sklearn.metrics import confusion_matrix\n",
    "cm = confusion_matrix(val_labels, Y_Pred)"
   ]
  },
  {
   "cell_type": "code",
   "execution_count": null,
   "metadata": {},
   "outputs": [],
   "source": [
    "#print(Y_Pred)\n",
    "X_Test = sc_X.transform(data)\n",
    "Y_Pred_train = classifier.predict(X_Test)\n",
    "test_acc = accuracy_score(train_labels, Y_Pred_train)\n",
    "print(\"Train Accuracy: \", test_acc)\n",
    "\n",
    "X_Test = sc_X.transform(val)\n",
    "Y_Pred = classifier.predict(X_Test)\n",
    "test_acc = accuracy_score(val_labels, Y_Pred)\n",
    "print(\"Val Accuracy: \", test_acc)\n",
    "\n",
    "#shuffled = np.zeros((300,513))\n",
    "#shuffled[:,:512] = test\n",
    "#shuffled[:,512] = test_labels\n",
    "#np.random.shuffle(shuffled)\n",
    "#test_shuffled = shuffled[:,:512]\n",
    "#labels_shuffled = shuffled[:,512]\n",
    "#X_Test = sc_X.transform(test)\n",
    "#Y_Pred = classifier.predict(X_Test)\n",
    "#test_acc = accuracy_score(test_labels, Y_Pred)\n",
    "#print(\"Test Accuracy: \", test_acc)"
   ]
  },
  {
   "cell_type": "code",
   "execution_count": null,
   "metadata": {},
   "outputs": [],
   "source": [
    "X_Test = sc_X.transform(test)\n",
    "Y_Pred = classifier.predict(X_Test)\n",
    "test_acc = accuracy_score(test_labels, Y_Pred)\n",
    "print(\"Test Accuracy: \", test_acc)"
   ]
  },
  {
   "cell_type": "code",
   "execution_count": null,
   "metadata": {},
   "outputs": [],
   "source": [
    "print(Y_Pred)"
   ]
  },
  {
   "cell_type": "code",
   "execution_count": null,
   "metadata": {},
   "outputs": [],
   "source": [
    "detector = MTCNN()\n",
    "import mtcnn\n",
    "from mtcnn.mtcnn import MTCNN\n",
    "def process(pixels):\n",
    "    global flag\n",
    "    results = detector.detect_faces(pixels)\n",
    "    if len(results) == 0:\n",
    "        flag = 1\n",
    "        return 0\n",
    "    x1, y1, width, height = results[0]['box']\n",
    "    x1, y1 = abs(x1), abs(y1)\n",
    "    x2, y2 = x1 + width, y1 + height\n",
    "    img = pixels[y1:y2, x1:x2]\n",
    "    img = cv2.resize(img, (160,160), interpolation=cv2.INTER_CUBIC)\n",
    "    return img\n",
    "\n",
    "test_labels = np.zeros((10,))\n",
    "b = []\n",
    "i=0\n",
    "test = np.zeros((10,512))\n",
    "for filename in os.listdir('../../../test'):\n",
    "    lr = cv2.imread(os.path.join('../../../test',filename))\n",
    "    lr = process(lr)\n",
    "    lr = cv2.cvtColor(lr, cv2.COLOR_BGR2RGB)\n",
    "    \n",
    "    lr = cv2.resize(lr, (24,24), interpolation=cv2.INTER_CUBIC)\n",
    "    lr = resolve_single(SR, lr)\n",
    "    lr = np.array(lr)\n",
    "    lr = cv2.resize(lr, (160,160), interpolation=cv2.INTER_CUBIC)\n",
    "    \n",
    "    lr = lr.astype('float32')\n",
    "    mean, std = lr.mean(), lr.std()\n",
    "    lr = (lr - mean) / std\n",
    "    \n",
    "    lr = np.array([lr])\n",
    "    lr = tf.convert_to_tensor(lr)\n",
    "    vec1 = SRFECNN.predict(lr)\n",
    "    vec1 = vec1.flatten() \n",
    "    test[i] = vec1\n",
    "    #test_labels[i] = int(i/5)\n",
    "    i += 1"
   ]
  },
  {
   "cell_type": "code",
   "execution_count": null,
   "metadata": {},
   "outputs": [],
   "source": [
    "#STANDARDIZATION\n",
    "\n",
    "for i in range(len(test[0])):\n",
    "    x = test[:,i]\n",
    "    x = x.astype('float32')\n",
    "    x = (x - mean_arr[i]) / std_arr[i]\n",
    "    test[:,i] = x"
   ]
  },
  {
   "cell_type": "code",
   "execution_count": null,
   "metadata": {},
   "outputs": [],
   "source": [
    "test_labels = [98,98,98,98,98,99,99,99,99,99]\n",
    "print(np.array(test_labels))\n",
    "os.listdir('../../../test')"
   ]
  },
  {
   "cell_type": "code",
   "execution_count": null,
   "metadata": {},
   "outputs": [],
   "source": [
    "#SVM"
   ]
  },
  {
   "cell_type": "code",
   "execution_count": null,
   "metadata": {},
   "outputs": [],
   "source": []
  },
  {
   "cell_type": "code",
   "execution_count": null,
   "metadata": {},
   "outputs": [],
   "source": [
    "#TRAIN DATA"
   ]
  },
  {
   "cell_type": "code",
   "execution_count": null,
   "metadata": {},
   "outputs": [],
   "source": [
    "i=0\n",
    "j=1\n",
    "temp = []\n",
    "data = np.zeros((1950,512))\n",
    "train_labels = np.zeros((1950,))\n",
    "for filename in os.listdir('../low-res-face-recognition/Dataset/final_gen_data/train'):\n",
    "    hr = cv2.imread(os.path.join('../low-res-face-recognition/Dataset/final_gen_data/train',filename))\n",
    "    hr = cv2.cvtColor(hr, cv2.COLOR_BGR2RGB)\n",
    "    \n",
    "    hr = hr.astype('float32')\n",
    "    mean, std = hr.mean(), hr.std()\n",
    "    hr = (hr - mean) / std\n",
    "    hr = np.array([hr])\n",
    "    hr = tf.convert_to_tensor(hr)\n",
    "    vec = FECNN.predict(hr)\n",
    "    vec = vec.flatten()\n",
    "    data[i] = vec\n",
    "    train_labels[i] = int(i/10)\n",
    "    i += 1"
   ]
  },
  {
   "cell_type": "code",
   "execution_count": null,
   "metadata": {},
   "outputs": [],
   "source": [
    "i=0\n",
    "j=1\n",
    "temp = []\n",
    "data = np.zeros((2090,512))\n",
    "train_labels = np.zeros((2090,))\n",
    "for filename in os.listdir('../low-res-face-recognition/Dataset/final_gen_data_209/train'):\n",
    "    lr = cv2.imread(os.path.join('../low-res-face-recognition/Dataset/final_gen_data_209/train',filename))\n",
    "    lr = cv2.cvtColor(lr, cv2.COLOR_BGR2RGB)\n",
    "    \n",
    "    lr = cv2.resize(lr, (36,36), interpolation=cv2.INTER_CUBIC)\n",
    "    lr = resolve_single(SR, lr)\n",
    "    lr = np.array(lr)\n",
    "    lr = cv2.resize(lr, (160,160), interpolation=cv2.INTER_CUBIC)\n",
    "    \n",
    "    lr = lr.astype('float32')\n",
    "    mean, std = lr.mean(), lr.std()\n",
    "    lr = (lr - mean) / std\n",
    "    \n",
    "    lr = np.array([lr])\n",
    "    lr = tf.convert_to_tensor(lr)\n",
    "    vec1 = SRFECNN.predict(lr)\n",
    "    vec1 = vec1.flatten() \n",
    "    data[i] = vec1\n",
    "    train_labels[i] = int(i/10)\n",
    "    i += 1"
   ]
  },
  {
   "cell_type": "code",
   "execution_count": null,
   "metadata": {},
   "outputs": [],
   "source": [
    "#STANDARDIZATION\n",
    "\n",
    "mean_arr = []\n",
    "std_arr = []\n",
    "for i in range(len(data[0])):\n",
    "    x = data[:,i]\n",
    "    x = x.astype('float32')\n",
    "    mean, std = x.mean(), x.std()\n",
    "    x = (x - mean) / std\n",
    "    mean_arr.append(mean)\n",
    "    std_arr.append(std)\n",
    "    data[:,i] = x"
   ]
  },
  {
   "cell_type": "code",
   "execution_count": null,
   "metadata": {},
   "outputs": [],
   "source": [
    "#VAL DATA"
   ]
  },
  {
   "cell_type": "code",
   "execution_count": null,
   "metadata": {},
   "outputs": [],
   "source": [
    "i=0\n",
    "j=1\n",
    "temp = []\n",
    "val = np.zeros((390,512))\n",
    "val_labels = np.zeros((390,))\n",
    "for filename in os.listdir('../low-res-face-recognition/Dataset/final_gen_data/val'):\n",
    "    hr = cv2.imread(os.path.join('../low-res-face-recognition/Dataset/final_gen_data/val',filename))\n",
    "    hr = cv2.cvtColor(hr, cv2.COLOR_BGR2RGB)\n",
    "    \n",
    "    hr = hr.astype('float32')\n",
    "    mean, std = hr.mean(), hr.std()\n",
    "    hr = (hr - mean) / std\n",
    "    hr = np.array([hr])\n",
    "    hr = tf.convert_to_tensor(hr)\n",
    "    vec = FECNN.predict(hr)\n",
    "    vec = vec.flatten()\n",
    "    val[i] = vec\n",
    "    val_labels[i] = int(i/2)\n",
    "    i += 1"
   ]
  },
  {
   "cell_type": "code",
   "execution_count": null,
   "metadata": {},
   "outputs": [],
   "source": [
    "i=0\n",
    "j=1\n",
    "temp = []\n",
    "val = np.zeros((418,512))\n",
    "val_labels = np.zeros((418,))\n",
    "for filename in os.listdir('../low-res-face-recognition/Dataset/final_gen_data_209/val'):\n",
    "    lr = cv2.imread(os.path.join('../low-res-face-recognition/Dataset/final_gen_data_209/val',filename))\n",
    "    lr = cv2.cvtColor(lr, cv2.COLOR_BGR2RGB)\n",
    "    \n",
    "    lr = cv2.resize(lr, (36,36), interpolation=cv2.INTER_CUBIC)\n",
    "    lr = resolve_single(SR, lr)\n",
    "    lr = np.array(lr)\n",
    "    lr = cv2.resize(lr, (160,160), interpolation=cv2.INTER_CUBIC)\n",
    "    \n",
    "    lr = lr.astype('float32')\n",
    "    mean, std = lr.mean(), lr.std()\n",
    "    lr = (lr - mean) / std\n",
    "    \n",
    "    lr = np.array([lr])\n",
    "    lr = tf.convert_to_tensor(lr)\n",
    "    vec1 = SRFECNN.predict(lr)\n",
    "    vec1 = vec1.flatten()\n",
    "    val[i] = vec1\n",
    "    val_labels[i] = int(i/2)\n",
    "    i += 1"
   ]
  },
  {
   "cell_type": "code",
   "execution_count": null,
   "metadata": {},
   "outputs": [],
   "source": [
    "#STANDARDIZATION\n",
    "\n",
    "for i in range(len(val[0])):\n",
    "    x = val[:,i]\n",
    "    x = x.astype('float32')\n",
    "    x = (x - mean_arr[i]) / std_arr[i]\n",
    "    val[:,i] = x"
   ]
  },
  {
   "cell_type": "code",
   "execution_count": null,
   "metadata": {},
   "outputs": [],
   "source": [
    "#TEST DATA"
   ]
  },
  {
   "cell_type": "code",
   "execution_count": null,
   "metadata": {},
   "outputs": [],
   "source": [
    "test_labels = np.zeros((627,))\n",
    "b = []\n",
    "i=0\n",
    "test = np.zeros((627,512))\n",
    "for filename in os.listdir('../low-res-face-recognition/Dataset/final_gen_data_209/test'):\n",
    "    lr = cv2.imread(os.path.join('../low-res-face-recognition/Dataset/final_gen_data_209/test',filename))\n",
    "    lr = cv2.cvtColor(lr, cv2.COLOR_BGR2RGB)\n",
    "    \n",
    "    lr = cv2.resize(lr, (16,16), interpolation=cv2.INTER_CUBIC)\n",
    "    lr = resolve_single(SR, lr)\n",
    "    lr = np.array(lr)\n",
    "    lr = cv2.resize(lr, (160,160), interpolation=cv2.INTER_CUBIC)\n",
    "    \n",
    "    lr = lr.astype('float32')\n",
    "    mean, std = lr.mean(), lr.std()\n",
    "    lr = (lr - mean) / std\n",
    "    \n",
    "    lr = np.array([lr])\n",
    "    lr = tf.convert_to_tensor(lr)\n",
    "    vec1 = SRFECNN.predict(lr)\n",
    "    vec1 = vec1.flatten() \n",
    "    test[i] = vec1\n",
    "    test_labels[i] = int(i/3)\n",
    "    i += 1"
   ]
  },
  {
   "cell_type": "code",
   "execution_count": null,
   "metadata": {},
   "outputs": [],
   "source": [
    "#STANDARDIZATION\n",
    "\n",
    "for i in range(len(test[0])):\n",
    "    x = test[:,i]\n",
    "    x = x.astype('float32')\n",
    "    x = (x - mean_arr[i]) / std_arr[i]\n",
    "    test[:,i] = x"
   ]
  },
  {
   "cell_type": "code",
   "execution_count": null,
   "metadata": {},
   "outputs": [],
   "source": [
    "svc_model = svm.SVC(kernel = 'linear', gamma='scale', probability = True) \n",
    "svc_model.fit(data, train_labels)\n",
    "\n",
    "## Train Accuracy\n",
    "pred = svc_model.predict(data)\n",
    "train_acc = accuracy_score(train_labels, pred)\n",
    "print(\"Training Accuracy: \", train_acc)\n",
    "\n",
    "## Test Accuracy\n",
    "pred = svc_model.predict(test)\n",
    "test_acc = accuracy_score(test_labels, pred)\n",
    "print(\"Test Accuracy: \", test_acc)"
   ]
  },
  {
   "cell_type": "code",
   "execution_count": null,
   "metadata": {},
   "outputs": [],
   "source": [
    "print(test_labels)"
   ]
  },
  {
   "cell_type": "code",
   "execution_count": null,
   "metadata": {},
   "outputs": [],
   "source": [
    "model = KNeighborsClassifier(n_neighbors=20)\n",
    "model.fit(data, train_labels)\n",
    "\n",
    "## Train Accuracy\n",
    "pred = model.predict(data)\n",
    "train_acc = accuracy_score(train_labels, pred)\n",
    "print(\"Training Accuracy: \", train_acc)\n",
    "\n",
    "pred = model.predict(test)\n",
    "test_acc = accuracy_score(test_labels, pred)\n",
    "print(\"Test Accuracy: \", test_acc)"
   ]
  },
  {
   "cell_type": "markdown",
   "metadata": {},
   "source": [
    "from sklearn.svm import SVC\n",
    "\n",
    "#dataset = datasets.load_iris()\n",
    "\n",
    "model = SVC(kernel = 'linear',probability = True)\n",
    "model.fit(data, labels)\n",
    "print(model)\n",
    "\n",
    "#expected = dataset.target\n",
    "#predicted = model.predict(dataset.data)\n",
    "\n",
    "#print(metrics.classification_report(expected, predicted))\n",
    "#print(metrics.confusion_matrix(expected, predicted))"
   ]
  },
  {
   "cell_type": "code",
   "execution_count": null,
   "metadata": {},
   "outputs": [],
   "source": [
    "dist1 = np.linalg.norm(data[3] - test[1])\n",
    "dist2 = np.linalg.norm(data[3] - test[10])\n",
    "print(dist1,dist2)"
   ]
  },
  {
   "cell_type": "code",
   "execution_count": null,
   "metadata": {},
   "outputs": [],
   "source": [
    "predicted = svc_model.predict(test)\n",
    "print(metrics.classification_report(test_labels, predicted))\n",
    "print(metrics.confusion_matrix(test_labels, predicted))"
   ]
  },
  {
   "cell_type": "code",
   "execution_count": null,
   "metadata": {},
   "outputs": [],
   "source": [
    "x = StandardScaler().fit_transform(data)\n",
    "pca = PCA(n_components=2)\n",
    "data2d = pca.fit_transform(x)\n",
    "\n",
    "x = StandardScaler().fit_transform(test)\n",
    "pca = PCA(n_components=2)\n",
    "test2d = pca.fit_transform(x)\n",
    "#print(principalComponents)\n"
   ]
  },
  {
   "cell_type": "code",
   "execution_count": null,
   "metadata": {},
   "outputs": [],
   "source": [
    "test2d[:,0] *= -1 "
   ]
  },
  {
   "cell_type": "code",
   "execution_count": null,
   "metadata": {},
   "outputs": [],
   "source": [
    "print(test2d[:,0])"
   ]
  },
  {
   "cell_type": "code",
   "execution_count": null,
   "metadata": {},
   "outputs": [],
   "source": [
    "print(__doc__)\n",
    "\n",
    "import numpy as np\n",
    "import matplotlib.pyplot as plt\n",
    "from sklearn import svm, datasets\n",
    "\n",
    "\n",
    "def make_meshgrid(x, y, h=.02):\n",
    "    \"\"\"Create a mesh of points to plot in\n",
    "\n",
    "    Parameters\n",
    "    ----------\n",
    "    x: data to base x-axis meshgrid on\n",
    "    y: data to base y-axis meshgrid on\n",
    "    h: stepsize for meshgrid, optional\n",
    "\n",
    "    Returns\n",
    "    -------\n",
    "    xx, yy : ndarray\n",
    "    \"\"\"\n",
    "    x_min, x_max = x.min() - 1, x.max() + 1\n",
    "    y_min, y_max = y.min() - 1, y.max() + 1\n",
    "    xx, yy = np.meshgrid(np.arange(x_min, x_max, h),\n",
    "                         np.arange(y_min, y_max, h))\n",
    "    return xx, yy\n",
    "\n",
    "\n",
    "def plot_contours(ax, clf, xx, yy, **params):\n",
    "    \"\"\"Plot the decision boundaries for a classifier.\n",
    "\n",
    "    Parameters\n",
    "    ----------\n",
    "    ax: matplotlib axes object\n",
    "    clf: a classifier\n",
    "    xx: meshgrid ndarray\n",
    "    yy: meshgrid ndarray\n",
    "    params: dictionary of params to pass to contourf, optional\n",
    "    \"\"\"\n",
    "    Z = clf.predict(np.c_[xx.ravel(), yy.ravel()])\n",
    "    Z = Z.reshape(xx.shape)\n",
    "    out = ax.contourf(xx, yy, Z, **params)\n",
    "    return out\n",
    "\n",
    "\n",
    "# import some data to play with\n",
    "\n",
    "# Take the first two features. We could avoid this by using a two-dim dataset\n",
    "X = data2d\n",
    "y = train_labels\n",
    "\n",
    "# we create an instance of SVM and fit out data. We do not scale our\n",
    "# data since we want to plot the support vectors\n",
    "C = 1.0  # SVM regularization parameter\n",
    "models = (svm.SVC(kernel='linear', C=C),\n",
    "          svm.LinearSVC(C=C, max_iter=10000),\n",
    "          svm.SVC(kernel='rbf', gamma=0.7, C=C),\n",
    "          svm.SVC(kernel='poly', degree=3, gamma='auto', C=C))\n",
    "models = (clf.fit(X, y) for clf in models)\n",
    "\n",
    "# title for the plots\n",
    "titles = ('SVC with linear kernel',\n",
    "          'LinearSVC (linear kernel)',\n",
    "          'SVC with RBF kernel',\n",
    "          'SVC with polynomial (degree 3) kernel')\n",
    "\n",
    "# Set-up 2x2 grid for plotting.\n",
    "fig, sub = plt.subplots(2, 2)\n",
    "plt.subplots_adjust(wspace=0.4, hspace=0.4)\n",
    "\n",
    "X0, X1 = X[:, 0], X[:, 1]\n",
    "xx, yy = make_meshgrid(X0, X1)\n",
    "\n",
    "for clf, title, ax in zip(models, titles, sub.flatten()):\n",
    "    plot_contours(ax, clf, xx, yy,\n",
    "                  cmap=plt.cm.coolwarm, alpha=0.8)\n",
    "    ax.scatter(X0, X1, c=y, cmap=plt.cm.coolwarm, s=20, edgecolors='k')\n",
    "    ax.set_xlim(xx.min(), xx.max())\n",
    "    ax.set_ylim(yy.min(), yy.max())\n",
    "    ax.set_xlabel('Sepal length')\n",
    "    ax.set_ylabel('Sepal width')\n",
    "    ax.set_xticks(())\n",
    "    ax.set_yticks(())\n",
    "    ax.set_title(title)\n",
    "\n",
    "plt.show()"
   ]
  },
  {
   "cell_type": "code",
   "execution_count": null,
   "metadata": {},
   "outputs": [],
   "source": []
  }
 ],
 "metadata": {
  "kernelspec": {
   "display_name": "Python 3.8 (tensorflow)",
   "language": "python",
   "name": "tensorflow"
  },
  "language_info": {
   "codemirror_mode": {
    "name": "ipython",
    "version": 3
   },
   "file_extension": ".py",
   "mimetype": "text/x-python",
   "name": "python",
   "nbconvert_exporter": "python",
   "pygments_lexer": "ipython3",
   "version": "3.8.10"
  }
 },
 "nbformat": 4,
 "nbformat_minor": 2
}
